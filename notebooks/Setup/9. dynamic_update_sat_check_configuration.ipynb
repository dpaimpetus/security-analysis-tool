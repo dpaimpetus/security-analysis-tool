{
 "cells": [
  {
   "cell_type": "code",
   "execution_count": 0,
   "metadata": {
    "application/vnd.databricks.v1+cell": {
     "cellMetadata": {},
     "inputWidgets": {},
     "nuid": "23153e26-5a27-44ba-b145-6923c36bab7a",
     "showTitle": false,
     "title": ""
    }
   },
   "outputs": [],
   "source": [
    "import json\n",
    "import os"
   ]
  },
  {
   "cell_type": "code",
   "execution_count": 0,
   "metadata": {
    "application/vnd.databricks.v1+cell": {
     "cellMetadata": {},
     "inputWidgets": {},
     "nuid": "67a911de-2626-4d42-988c-649fa1ceb1be",
     "showTitle": false,
     "title": ""
    }
   },
   "outputs": [],
   "source": [
    "%run ../Utils/initialize"
   ]
  },
  {
   "cell_type": "markdown",
   "metadata": {
    "application/vnd.databricks.v1+cell": {
     "cellMetadata": {},
     "inputWidgets": {},
     "nuid": "6623f331-ff86-4122-9ab0-8602a8214c38",
     "showTitle": false,
     "title": ""
    }
   },
   "source": [
    "##<img src=\"https://databricks.com/wp-content/themes/databricks/assets/images/header_logo_2x.png\" alt=\"logo\" width=\"150\"/> \n",
    "\n",
    "## SAT Check Configuration\n",
    "* <i> This utility helps administrators review their current configuration of SAT checks and modify if needed. </i>\n",
    "* <b> get_all_sat_checks() </b> \n",
    "  * Populates 'SAT Check' drop down widget with all relevant checks for the current cloud type & reset all other widgets\n",
    "  * Administrator chooses a check from the dropdown list\n",
    "* <b> get_sat_check_config() </b> \n",
    "  * Fetches the specific check details from the database for user to view or modify\n",
    "* <b> set_all_sat_checks() </b> \n",
    "  * Updates Database with user changes to check details"
   ]
  },
  {
   "cell_type": "code",
   "execution_count": 0,
   "metadata": {
    "application/vnd.databricks.v1+cell": {
     "cellMetadata": {},
     "inputWidgets": {},
     "nuid": "fe288474-8c59-48af-a278-b1ff6f9ac2f4",
     "showTitle": false,
     "title": ""
    }
   },
   "outputs": [],
   "source": [
    "%run ./../Utils/sat_checks_config"
   ]
  },
  {
   "cell_type": "code",
   "execution_count": 0,
   "metadata": {
    "application/vnd.databricks.v1+cell": {
     "cellMetadata": {},
     "inputWidgets": {},
     "nuid": "9fd652f7-629d-4ea4-b7e8-228782f3736d",
     "showTitle": false,
     "title": ""
    }
   },
   "outputs": [],
   "source": [
    "args = dbutils.notebook.entry_point.getCurrentBindings()"
   ]
  },
  {
   "cell_type": "code",
   "execution_count": 0,
   "metadata": {
    "application/vnd.databricks.v1+cell": {
     "cellMetadata": {},
     "inputWidgets": {},
     "nuid": "21649b50-7bdb-4daa-bf55-e0b79507742e",
     "showTitle": false,
     "title": ""
    }
   },
   "outputs": [],
   "source": [
    "user_input = args['user_inputs']\n",
    "user_enable = args['user_enables']\n",
    "user_evaluate = args['user_evaluate']\n",
    "user_alert = args['user_alert']\n",
    "\n",
    "print(user_input,user_enable,user_evaluate,user_alert)"
   ]
  },
  {
   "cell_type": "code",
   "execution_count": 0,
   "metadata": {
    "application/vnd.databricks.v1+cell": {
     "cellMetadata": {},
     "inputWidgets": {},
     "nuid": "32c18703-f0e8-45c7-aa6d-5182de4df4d0",
     "showTitle": false,
     "title": ""
    }
   },
   "outputs": [],
   "source": [
    "#Determine cloud type\n",
    "def getCloudType(url):\n",
    "  if '.cloud.' in url:\n",
    "    return 'aws'\n",
    "  elif '.azuredatabricks.' in url:\n",
    "    return 'azure'\n",
    "  elif '.gcp.' in url:\n",
    "    return 'gcp'\n",
    "  return ''\n",
    "\n",
    "def getConfigPath():\n",
    "  import os\n",
    "  cwd = os.getcwd().lower()\n",
    "  if (cwd.rfind('/includes') != -1) or (cwd.rfind('/setup') != -1) or (cwd.rfind('/utils') != -1):\n",
    "    return '../../configs'\n",
    "  elif (cwd.rfind('/notebooks') != -1):\n",
    "    return '../configs'\n",
    "  else:\n",
    "    return 'configs'"
   ]
  },
  {
   "cell_type": "code",
   "execution_count": 0,
   "metadata": {
    "application/vnd.databricks.v1+cell": {
     "cellMetadata": {},
     "inputWidgets": {},
     "nuid": "036813c0-7c9d-49f2-9092-6bab23128146",
     "showTitle": false,
     "title": ""
    }
   },
   "outputs": [],
   "source": [
    "#Reset SAT check widgets \n",
    "def get_all_sat_checks():\n",
    "    dbutils.widgets.removeAll()\n",
    "\n",
    "    hostname = dbutils.notebook.entry_point.getDbutils().notebook().getContext().apiUrl().getOrElse(None)\n",
    "    cloud_type = getCloudType(hostname)\n",
    "\n",
    "    s_sql = '''\n",
    "        SELECT CONCAT_WS('_',check_id, category, check) AS check\n",
    "        FROM {analysis_schema_name}.security_best_practices \n",
    "        WHERE {cloud_type}=1\n",
    "        '''.format(cloud_type = cloud_type, analysis_schema_name= json_[\"analysis_schema_name\"])\n",
    "\n",
    "    all_checks = spark.sql(s_sql)\n",
    "    checks = all_checks.rdd.map(lambda row : row[0]).collect()\n",
    "\n",
    "    checks.sort()\n",
    "    #print(checks)\n",
    "    first_check = str(user_input)\n",
    "    \n",
    "    #Define Driver Widgets\n",
    "    dbutils.widgets.dropdown(\"sat_check\", first_check, [str(x) for x in checks], \"a. SAT Check\")"
   ]
  },
  {
   "cell_type": "code",
   "execution_count": 0,
   "metadata": {
    "application/vnd.databricks.v1+cell": {
     "cellMetadata": {},
     "inputWidgets": {},
     "nuid": "51c6ebf5-76b4-4b56-b688-6be0d8e7c486",
     "showTitle": false,
     "title": ""
    }
   },
   "outputs": [],
   "source": [
    "#Populate 'SAT Check' drop down widget with all relevant checks for the current cloud type & reset all other widgets\n",
    "get_all_sat_checks()"
   ]
  },
  {
   "cell_type": "code",
   "execution_count": 0,
   "metadata": {
    "application/vnd.databricks.v1+cell": {
     "cellMetadata": {},
     "inputWidgets": {},
     "nuid": "d23c2ab9-18ae-4fa7-9000-c26c5b5d85b6",
     "showTitle": false,
     "title": ""
    }
   },
   "outputs": [],
   "source": [
    "def get_sat_check_config():\n",
    "    sat_check = dbutils.widgets.get(\"sat_check\")\n",
    "    check_id = sat_check.split('_')[0]\n",
    "\n",
    "    s_sql = '''\n",
    "                SELECT enable, evaluation_value, alert\n",
    "                FROM {analysis_schema_name}.security_best_practices \n",
    "                WHERE check_id= '{check_id}'\n",
    "            '''.format(check_id = check_id, analysis_schema_name= json_[\"analysis_schema_name\"])\n",
    "\n",
    "    get_check = spark.sql(s_sql)\n",
    "    check = get_check.toPandas().to_dict(orient = 'list')\n",
    "    \n",
    "#    enable = check['enable'][0]\n",
    "#    evaluate = check['evaluation_value'][0]\n",
    "#    alert = check['alert'][0]\n",
    "    enable = user_enable\n",
    "    evaluate = user_evaluate\n",
    "    alert = user_alert\n",
    "\n",
    "\n",
    "    dbutils.widgets.dropdown(\"check_enabled\", str(enable),  ['0','1'], \"b. Check Enabled\")\n",
    "    dbutils.widgets.text(\"evaluation_value\", str(evaluate), \"c. Evaluation Value\")\n",
    "    dbutils.widgets.text(\"alert\", str(alert), \"d. Alert\")"
   ]
  },
  {
   "cell_type": "code",
   "execution_count": 0,
   "metadata": {
    "application/vnd.databricks.v1+cell": {
     "cellMetadata": {},
     "inputWidgets": {},
     "nuid": "918a56ef-00dc-437a-80c7-c5b45b6ea145",
     "showTitle": false,
     "title": ""
    }
   },
   "outputs": [],
   "source": [
    "#Fetch specific check details from the database for user to view or modify\n",
    "get_sat_check_config()"
   ]
  },
  {
   "cell_type": "code",
   "execution_count": 0,
   "metadata": {
    "application/vnd.databricks.v1+cell": {
     "cellMetadata": {},
     "inputWidgets": {},
     "nuid": "4c958dfa-6d0b-4f01-8e18-5ab63e3e39ce",
     "showTitle": false,
     "title": ""
    }
   },
   "outputs": [],
   "source": [
    "#Update Database with user changes to check details\n",
    "set_sat_check_config()\n",
    "#reset widgets\n",
    "get_all_sat_checks()"
   ]
  },
  {
   "cell_type": "code",
   "execution_count": 0,
   "metadata": {
    "application/vnd.databricks.v1+cell": {
     "cellMetadata": {},
     "inputWidgets": {},
     "nuid": "d865e7d8-7e17-4612-a2e6-543805905b8a",
     "showTitle": false,
     "title": ""
    }
   },
   "outputs": [],
   "source": []
  }
 ],
 "metadata": {
  "application/vnd.databricks.v1+notebook": {
   "dashboards": [],
   "language": "python",
   "notebookMetadata": {
    "pythonIndentUnit": 4
   },
   "notebookName": "9. dynamic_update_sat_check_configuration",
   "widgets": {}
  }
 },
 "nbformat": 4,
 "nbformat_minor": 0
}
